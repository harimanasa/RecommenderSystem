{
 "cells": [
  {
   "cell_type": "markdown",
   "metadata": {
    "collapsed": true
   },
   "source": [
    "# 1. Create m x u matrix with movies as row and users as column\n",
    "https://alyssaq.github.io/2015/20150426-simple-movie-recommender-using-svd/"
   ]
  },
  {
   "cell_type": "code",
   "execution_count": 27,
   "metadata": {
    "collapsed": true
   },
   "outputs": [],
   "source": [
    "#Import required libraries\n",
    "import numpy as np\n",
    "import pandas as pd"
   ]
  },
  {
   "cell_type": "code",
   "execution_count": 29,
   "metadata": {},
   "outputs": [],
   "source": [
    "# We will be using movies.dat and rating.dat for building the recommender.\n",
    "\n",
    "data = pd.io.parsers.read_csv('ml-1m/ratings.dat', names=['user_id', 'movie_id', 'rating', 'time'],\n",
    "    engine='python', delimiter='::')\n",
    "movie_data = pd.io.parsers.read_csv('ml-1m/movies.dat', names=['movie_id', 'title', 'genre'],\n",
    "    engine='python', delimiter='::')"
   ]
  },
  {
   "cell_type": "code",
   "execution_count": 41,
   "metadata": {},
   "outputs": [],
   "source": [
    "# movie_data"
   ]
  },
  {
   "cell_type": "code",
   "execution_count": 30,
   "metadata": {
    "collapsed": true
   },
   "outputs": [],
   "source": [
    "#1. Create m x u matrix with movies as row and users as column\n",
    "\n",
    "ratings_mat = np.ndarray(shape=(np.max(data.movie_id.values), np.max(data.user_id.values)),dtype=np.uint8)\n",
    "ratings_mat[data.movie_id.values-1, data.user_id.values-1] = data.rating.values"
   ]
  },
  {
   "cell_type": "code",
   "execution_count": 31,
   "metadata": {
    "collapsed": true
   },
   "outputs": [],
   "source": [
    "#2. Normalize the matrix\n",
    "normalised_mat = ratings_mat - np.asarray([(np.mean(ratings_mat, 1))]).T"
   ]
  },
  {
   "cell_type": "code",
   "execution_count": 32,
   "metadata": {
    "collapsed": true
   },
   "outputs": [],
   "source": [
    "#3. Compute SVD to get U, S, and V. Use np.linalg.svd()\n",
    "A = normalised_mat.T / np.sqrt(ratings_mat.shape[0] - 1)\n",
    "U, S, V = np.linalg.svd(A)"
   ]
  },
  {
   "cell_type": "code",
   "execution_count": 37,
   "metadata": {},
   "outputs": [],
   "source": [
    "#4. From your V.T select 50 components\n",
    "k = 50\n",
    "sliced = V.T[:, :k] # representative data\n"
   ]
  },
  {
   "cell_type": "code",
   "execution_count": 35,
   "metadata": {
    "collapsed": true
   },
   "outputs": [],
   "source": [
    "#5. Implement a function that takes movieID as input and then implement cosine similarity \n",
    "# along with sorting to recommend the top 10 movies.\n",
    "\n",
    "def top_cosine_similarity(data, movie_id, top_n=10):\n",
    "    index = movie_id - 1 # Movie id starts from 1\n",
    "    movie_row = data[index, :]\n",
    "    magnitude = np.sqrt(np.einsum('ij, ij -> i', data, data))\n",
    "    similarity = np.dot(movie_row, data.T) / (magnitude[index] * magnitude)\n",
    "    sort_indexes = np.argsort(-similarity)\n",
    "    return sort_indexes[:top_n]\n",
    "\n",
    "# Helper function to print top N similar movies\n",
    "def print_similar_movies(movie_data, movie_id, top_indexes):\n",
    "    print('Recommendations for {0}: \\n'.format(\n",
    "    movie_data[movie_data.movie_id == movie_id].title.values[0]))\n",
    "    for id in top_indexes + 1:\n",
    "        print(movie_data[movie_data.movie_id == id].title.values[0])"
   ]
  },
  {
   "cell_type": "code",
   "execution_count": 36,
   "metadata": {},
   "outputs": [
    {
     "name": "stdout",
     "output_type": "stream",
     "text": [
      "Recommendations for Toy Story (1995): \n",
      "\n",
      "Toy Story (1995)\n",
      "Georgia (1995)\n",
      "Lamerica (1994)\n",
      "Catwalk (1995)\n",
      "400 Blows, The (Les Quatre cents coups) (1959)\n",
      "Whatever It Takes (2000)\n",
      "Chushingura (1962)\n",
      "Way of the Gun, The (2000)\n",
      "Grandfather, The (El Abuelo) (1998)\n",
      "Teaching Mrs. Tingle (1999)\n"
     ]
    }
   ],
   "source": [
    "movie_id = 1 # Movie ID input here \n",
    "top_n = 10\n",
    "\n",
    "indexes = top_cosine_similarity(sliced, movie_id, top_n)\n",
    "print_similar_movies(movie_data, movie_id, indexes)"
   ]
  },
  {
   "cell_type": "markdown",
   "metadata": {},
   "source": [
    "# Project Report - 2. For part2, take any 3 random movie IDs. Compute and report the top 10 recommended movies. Describe if the movies are actually similar."
   ]
  },
  {
   "cell_type": "code",
   "execution_count": 49,
   "metadata": {},
   "outputs": [
    {
     "data": {
      "text/plain": [
       "array([1742,  178, 1266])"
      ]
     },
     "execution_count": 49,
     "metadata": {},
     "output_type": "execute_result"
    }
   ],
   "source": [
    "np.random.randint(low=1, high=3952, size=3)"
   ]
  },
  {
   "cell_type": "code",
   "execution_count": 46,
   "metadata": {},
   "outputs": [
    {
     "name": "stdout",
     "output_type": "stream",
     "text": [
      "Recommendations for Singles (1992): \n",
      "\n",
      "Singles (1992)\n",
      "Illuminata (1998)\n",
      "King of Marvin Gardens, The (1972)\n",
      "Hidden, The (1987)\n",
      "Night to Remember, A (1958)\n",
      "Light It Up (1999)\n",
      "Patriot Games (1992)\n",
      "Nine 1/2 Weeks (1986)\n",
      "Me, Myself and Irene (2000)\n",
      "Flying Tigers (1942)\n"
     ]
    }
   ],
   "source": [
    "movie_id = 3261 # Movie ID input here \n",
    "top_n = 10\n",
    "\n",
    "indexes = top_cosine_similarity(sliced, movie_id, top_n)\n",
    "print_similar_movies(movie_data, movie_id, indexes)"
   ]
  },
  {
   "cell_type": "code",
   "execution_count": 48,
   "metadata": {},
   "outputs": [
    {
     "name": "stdout",
     "output_type": "stream",
     "text": [
      "Recommendations for Perils of Pauline, The (1947): \n",
      "\n",
      "Perils of Pauline, The (1947)\n",
      "Brown's Requiem (1998)\n",
      "Torso (Corpi Presentano Tracce di Violenza Carnale) (1973)\n",
      "Portraits Chinois (1996)\n",
      "Holy Smoke (1999)\n",
      "Date with an Angel (1987)\n",
      "Faraway, So Close (In Weiter Ferne, So Nah!) (1993)\n",
      "Champ, The (1979)\n",
      "Shaft (1971)\n",
      "Replacements, The (2000)\n"
     ]
    }
   ],
   "source": [
    "movie_id = 3349 # Movie ID input here \n",
    "top_n = 10\n",
    "\n",
    "indexes = top_cosine_similarity(sliced, movie_id, top_n)\n",
    "print_similar_movies(movie_data, movie_id, indexes)"
   ]
  },
  {
   "cell_type": "code",
   "execution_count": 50,
   "metadata": {},
   "outputs": [
    {
     "name": "stdout",
     "output_type": "stream",
     "text": [
      "Recommendations for Caught Up (1998): \n",
      "\n",
      "Caught Up (1998)\n",
      "Meatballs (1979)\n",
      "Golden Child, The (1986)\n",
      "Wild Man Blues (1998)\n",
      "Pleasure Garden, The (1925)\n",
      "Men Cry Bullets (1997)\n",
      "Kiss Me, Guido (1997)\n",
      "Out-of-Towners, The (1999)\n",
      "Contempt (Le M�pris) (1963)\n",
      "Substance of Fire, The (1996)\n"
     ]
    }
   ],
   "source": [
    "movie_id = 1742 # Movie ID input here \n",
    "top_n = 10\n",
    "\n",
    "indexes = top_cosine_similarity(sliced, movie_id, top_n)\n",
    "print_similar_movies(movie_data, movie_id, indexes)"
   ]
  },
  {
   "cell_type": "code",
   "execution_count": 51,
   "metadata": {},
   "outputs": [
    {
     "name": "stdout",
     "output_type": "stream",
     "text": [
      "Recommendations for Love & Human Remains (1993): \n",
      "\n",
      "Love & Human Remains (1993)\n",
      "S.F.W. (1994)\n",
      "Total Eclipse (1995)\n",
      "Nadja (1994)\n",
      "Stars Fell on Henrietta, The (1995)\n",
      "Tom & Viv (1994)\n",
      "Safe Passage (1994)\n",
      "Blue in the Face (1995)\n",
      "Awfully Big Adventure, An (1995)\n",
      "Little Odessa (1994)\n"
     ]
    }
   ],
   "source": [
    "movie_id = 178 # Movie ID input here \n",
    "top_n = 10\n",
    "\n",
    "indexes = top_cosine_similarity(sliced, movie_id, top_n)\n",
    "print_similar_movies(movie_data, movie_id, indexes)"
   ]
  },
  {
   "cell_type": "code",
   "execution_count": null,
   "metadata": {
    "collapsed": true
   },
   "outputs": [],
   "source": []
  }
 ],
 "metadata": {
  "kernelspec": {
   "display_name": "Python 3",
   "language": "python",
   "name": "python3"
  },
  "language_info": {
   "codemirror_mode": {
    "name": "ipython",
    "version": 3
   },
   "file_extension": ".py",
   "mimetype": "text/x-python",
   "name": "python",
   "nbconvert_exporter": "python",
   "pygments_lexer": "ipython3",
   "version": "3.6.1"
  }
 },
 "nbformat": 4,
 "nbformat_minor": 2
}
